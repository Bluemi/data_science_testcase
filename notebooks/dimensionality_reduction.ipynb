{
 "cells": [
  {
   "cell_type": "code",
   "execution_count": null,
   "id": "5a912229",
   "metadata": {
    "ExecuteTime": {
     "end_time": "2023-07-10T14:04:27.684953288Z",
     "start_time": "2023-07-10T14:04:27.028831877Z"
    }
   },
   "outputs": [],
   "source": [
    "import numpy as np\n",
    "import os\n",
    "from PIL import Image\n",
    "from utils import load_mnist, plot_embedding\n",
    "\n",
    "np.set_printoptions(precision=3, suppress=True)"
   ]
  },
  {
   "cell_type": "code",
   "execution_count": null,
   "id": "ae227d38",
   "metadata": {
    "ExecuteTime": {
     "end_time": "2023-07-10T14:04:31.816372530Z",
     "start_time": "2023-07-10T14:04:28.207104502Z"
    }
   },
   "outputs": [],
   "source": [
    "mnist_data, mnist_labels = load_mnist()"
   ]
  },
  {
   "cell_type": "code",
   "execution_count": null,
   "id": "c9887b30",
   "metadata": {
    "ExecuteTime": {
     "end_time": "2023-07-10T14:04:32.428618582Z",
     "start_time": "2023-07-10T14:04:32.416003808Z"
    }
   },
   "outputs": [],
   "source": [
    "data, labels = mnist_data, mnist_labels\n",
    "colors = None\n",
    "print(data.shape)\n",
    "print(labels.shape)"
   ]
  },
  {
   "cell_type": "code",
   "execution_count": null,
   "id": "d8008b7a",
   "metadata": {
    "ExecuteTime": {
     "end_time": "2023-07-10T09:05:51.889418802Z",
     "start_time": "2023-07-10T09:05:51.844751007Z"
    }
   },
   "outputs": [],
   "source": [
    "path = os.path.join('data', 'swiss_roll', 'swiss_roll.png')\n",
    "image = Image.open(path)\n",
    "# noinspection PyTypeChecker\n",
    "image = np.array(image)[..., :3]\n",
    "data = image.reshape((-1, 3))\n",
    "labels = None\n",
    "colors = data / 255\n",
    "\n",
    "print(data.shape)\n",
    "print(np.max(colors))"
   ]
  },
  {
   "cell_type": "code",
   "execution_count": null,
   "id": "b2e7510d",
   "metadata": {
    "ExecuteTime": {
     "end_time": "2023-07-10T13:38:17.162514707Z",
     "start_time": "2023-07-10T13:38:15.133638149Z"
    }
   },
   "outputs": [],
   "source": [
    "from sklearn.decomposition import PCA\n",
    "embedding = PCA()\n",
    "NUM_DATAPOINTS = 3000\n",
    "transformed = embedding.fit_transform(data[:NUM_DATAPOINTS])\n",
    "pca_labels = labels[:NUM_DATAPOINTS] if labels is not None else None\n",
    "pca_colors = colors[:NUM_DATAPOINTS] if colors is not None else None\n",
    "plot_embedding(transformed, pca_labels, colors=pca_colors)"
   ]
  },
  {
   "cell_type": "code",
   "execution_count": null,
   "id": "c2834d93",
   "metadata": {
    "ExecuteTime": {
     "end_time": "2023-07-10T13:39:08.835033511Z",
     "start_time": "2023-07-10T13:38:28.828360558Z"
    }
   },
   "outputs": [],
   "source": [
    "from sklearn.manifold import MDS\n",
    "embedding = MDS(normalized_stress='auto')\n",
    "NUM_DATAPOINTS = 1200\n",
    "transformed = embedding.fit_transform(data[:NUM_DATAPOINTS])\n",
    "mds_labels = labels[:NUM_DATAPOINTS] if labels is not None else None\n",
    "mds_colors = colors[:NUM_DATAPOINTS] if colors is not None else None\n",
    "plot_embedding(transformed, mds_labels, colors=mds_colors)"
   ]
  },
  {
   "cell_type": "code",
   "execution_count": null,
   "id": "fcef4d59",
   "metadata": {
    "ExecuteTime": {
     "end_time": "2023-07-10T08:14:24.998201427Z",
     "start_time": "2023-07-10T08:14:24.051088262Z"
    }
   },
   "outputs": [],
   "source": [
    "from sklearn.manifold import Isomap\n",
    "embedding = Isomap(n_neighbors=10)\n",
    "NUM_DATAPOINTS = 1000\n",
    "transformed = embedding.fit_transform(data[:NUM_DATAPOINTS])\n",
    "isomap_labels = labels[:NUM_DATAPOINTS] if labels is not None else None\n",
    "isomap_colors = colors[:NUM_DATAPOINTS] if colors is not None else None\n",
    "plot_embedding(transformed, isomap_labels, colors=isomap_colors)"
   ]
  },
  {
   "cell_type": "code",
   "execution_count": null,
   "id": "005597d1",
   "metadata": {
    "ExecuteTime": {
     "start_time": "2023-07-10T13:52:29.927012180Z"
    }
   },
   "outputs": [],
   "source": [
    "from sklearn.manifold import LocallyLinearEmbedding\n",
    "embedding = LocallyLinearEmbedding(n_neighbors=30)\n",
    "NUM_DATAPOINTS = 20000\n",
    "transformed = embedding.fit_transform(data[:NUM_DATAPOINTS])\n",
    "lle_labels = labels[:NUM_DATAPOINTS] if labels is not None else None\n",
    "lle_colors = colors[:NUM_DATAPOINTS] if colors is not None else None\n",
    "plot_embedding(transformed, lle_labels, colors=lle_colors)"
   ]
  },
  {
   "cell_type": "code",
   "execution_count": null,
   "id": "1c4cd302",
   "metadata": {
    "ExecuteTime": {
     "end_time": "2023-07-10T14:04:45.656860310Z",
     "start_time": "2023-07-10T14:04:38.369608995Z"
    }
   },
   "outputs": [],
   "source": [
    "from sklearn.manifold import TSNE\n",
    "embedding = TSNE()\n",
    "NUM_DATAPOINTS = 2000\n",
    "transformed = embedding.fit_transform(data[:NUM_DATAPOINTS])\n",
    "tsne_labels = labels[:NUM_DATAPOINTS] if labels is not None else None\n",
    "tsne_colors = colors[:NUM_DATAPOINTS] if colors is not None else None\n",
    "plot_embedding(transformed, tsne_labels, colors=tsne_colors)"
   ]
  },
  {
   "cell_type": "code",
   "execution_count": null,
   "id": "3a48cc4d",
   "metadata": {},
   "outputs": [],
   "source": []
  }
 ],
 "metadata": {
  "kernelspec": {
   "display_name": "Python 3 (ipykernel)",
   "language": "python",
   "name": "python3"
  },
  "language_info": {
   "codemirror_mode": {
    "name": "ipython",
    "version": 3
   },
   "file_extension": ".py",
   "mimetype": "text/x-python",
   "name": "python",
   "nbconvert_exporter": "python",
   "pygments_lexer": "ipython3",
   "version": "3.11.3"
  }
 },
 "nbformat": 4,
 "nbformat_minor": 5
}
