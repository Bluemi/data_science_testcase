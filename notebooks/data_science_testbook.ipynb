{
 "cells": [
  {
   "cell_type": "code",
   "execution_count": null,
   "id": "5a912229",
   "metadata": {
    "ExecuteTime": {
     "end_time": "2023-07-20T08:39:59.664919396Z",
     "start_time": "2023-07-20T08:39:59.540881955Z"
    }
   },
   "outputs": [],
   "source": [
    "import numpy as np\n",
    "np.set_printoptions(precision=3, suppress=True)"
   ]
  },
  {
   "cell_type": "code",
   "execution_count": null,
   "id": "8b1a4a98",
   "metadata": {
    "ExecuteTime": {
     "end_time": "2023-07-20T08:40:00.519631761Z",
     "start_time": "2023-07-20T08:40:00.491510985Z"
    }
   },
   "outputs": [],
   "source": [
    "def create_rotation_matrix(a):\n",
    "    return np.array([[np.cos(a), -np.sin(a)], [np.sin(a), np.cos(a)]])"
   ]
  },
  {
   "cell_type": "code",
   "execution_count": null,
   "id": "0791e084",
   "metadata": {
    "ExecuteTime": {
     "end_time": "2023-07-20T08:40:01.354662294Z",
     "start_time": "2023-07-20T08:40:01.335857801Z"
    }
   },
   "outputs": [],
   "source": [
    "for a in np.random.random(10):\n",
    "    rotation_matrix = create_rotation_matrix(a)\n",
    "    print(rotation_matrix @ rotation_matrix.T)\n",
    "    print(rotation_matrix.T @ rotation_matrix)"
   ]
  },
  {
   "cell_type": "code",
   "execution_count": null,
   "id": "bd57f23f",
   "metadata": {},
   "outputs": [],
   "source": []
  }
 ],
 "metadata": {
  "kernelspec": {
   "display_name": "Python 3 (ipykernel)",
   "language": "python",
   "name": "python3"
  },
  "language_info": {
   "codemirror_mode": {
    "name": "ipython",
    "version": 3
   },
   "file_extension": ".py",
   "mimetype": "text/x-python",
   "name": "python",
   "nbconvert_exporter": "python",
   "pygments_lexer": "ipython3",
   "version": "3.11.3"
  }
 },
 "nbformat": 4,
 "nbformat_minor": 5
}
