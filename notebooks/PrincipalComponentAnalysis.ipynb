{
 "cells": [
  {
   "cell_type": "code",
   "execution_count": null,
   "id": "e0e78d05",
   "metadata": {
    "ExecuteTime": {
     "end_time": "2023-07-20T09:09:27.998165326Z",
     "start_time": "2023-07-20T09:09:27.284734596Z"
    }
   },
   "outputs": [],
   "source": [
    "import numpy as np\n",
    "import matplotlib.pyplot as plt"
   ]
  },
  {
   "cell_type": "code",
   "execution_count": null,
   "id": "6f09692b",
   "metadata": {
    "ExecuteTime": {
     "end_time": "2023-07-20T09:09:28.210414720Z",
     "start_time": "2023-07-20T09:09:28.001314683Z"
    }
   },
   "outputs": [],
   "source": [
    "NOISE_VALUE = 0.3\n",
    "SCALE_VALUE = 4.0\n",
    "NUM_DATA_POINTS = 100\n",
    "data1 = np.random.random(NUM_DATA_POINTS) * SCALE_VALUE\n",
    "data2 = data1+3 + np.random.normal(size=NUM_DATA_POINTS)*NOISE_VALUE\n",
    "# data2 = np.random.random(NUM_DATA_POINTS) * SCALE_VALUE\n",
    "data = np.vstack([data1, data2])\n",
    "print('data shape:', data.shape)\n",
    "\n",
    "plt.scatter(data[0], data[1]);"
   ]
  },
  {
   "cell_type": "code",
   "execution_count": null,
   "id": "43ec4586",
   "metadata": {
    "ExecuteTime": {
     "end_time": "2023-07-20T09:09:28.417291447Z",
     "start_time": "2023-07-20T09:09:28.185260345Z"
    }
   },
   "outputs": [],
   "source": [
    "mean_values = np.mean(data, axis=1).reshape((2, 1))\n",
    "print('mean per dim:', mean_values)\n",
    "zero_mean_data = data - mean_values\n",
    "print('mean per dim (normalized):', np.mean(zero_mean_data, axis=1))\n",
    "\n",
    "plt.scatter(zero_mean_data[0], zero_mean_data[1])"
   ]
  },
  {
   "cell_type": "code",
   "execution_count": null,
   "id": "3b463198",
   "metadata": {
    "ExecuteTime": {
     "end_time": "2023-07-20T09:09:28.418204246Z",
     "start_time": "2023-07-20T09:09:28.357167343Z"
    }
   },
   "outputs": [],
   "source": [
    "covariance1 = np.cov(zero_mean_data)\n",
    "print('covariance:', covariance1, sep='\\n')\n",
    "\n",
    "covariance2 = (zero_mean_data @ zero_mean_data.T) / NUM_DATA_POINTS\n",
    "print('covariance2:', covariance2, sep='\\n')"
   ]
  },
  {
   "cell_type": "code",
   "execution_count": null,
   "id": "5295eb27",
   "metadata": {
    "ExecuteTime": {
     "end_time": "2023-07-20T09:09:28.631898551Z",
     "start_time": "2023-07-20T09:09:28.369917701Z"
    }
   },
   "outputs": [],
   "source": [
    "eig_values, eig_vecs = np.linalg.eig(covariance1)\n",
    "scaled_eig_vecs = eig_vecs * np.sqrt(eig_values)\n",
    "scaled_eig_vecs *= 4  # make them longer for visualization\n",
    "\n",
    "plt.scatter(zero_mean_data[0], zero_mean_data[1])\n",
    "origin = np.array([[0, 0],[0, 0]])\n",
    "plt.quiver(*origin, scaled_eig_vecs[0, :], scaled_eig_vecs[1, :], color=['r','b'], scale=21)\n",
    "# plt.quiver(*origin, covariance2[:, 0], covariance2[:, 1], color=['r','b'], scale=21)"
   ]
  },
  {
   "cell_type": "code",
   "execution_count": null,
   "id": "45b2ab63",
   "metadata": {
    "ExecuteTime": {
     "end_time": "2023-07-20T09:09:28.632387559Z",
     "start_time": "2023-07-20T09:09:28.578000937Z"
    }
   },
   "outputs": [],
   "source": [
    "U, S, V = np.linalg.svd(covariance2)\n",
    "U @ np.diag(S) @ V"
   ]
  },
  {
   "cell_type": "code",
   "execution_count": null,
   "id": "58215cb7",
   "metadata": {
    "ExecuteTime": {
     "end_time": "2023-07-20T09:09:28.740619283Z",
     "start_time": "2023-07-20T09:09:28.578268909Z"
    }
   },
   "outputs": [],
   "source": [
    "z = U.T @ zero_mean_data\n",
    "print('z.shape:', z.shape, sep='\\n')\n",
    "\n",
    "plt.scatter(z[0], z[1])\n",
    "plt.xlim(-4, 4)\n",
    "plt.ylim(-4, 4)\n"
   ]
  },
  {
   "cell_type": "code",
   "execution_count": null,
   "id": "b2437308",
   "metadata": {
    "ExecuteTime": {
     "end_time": "2023-07-20T09:09:28.815663482Z",
     "start_time": "2023-07-20T09:09:28.726178263Z"
    }
   },
   "outputs": [],
   "source": [
    "Ureduce = U[:, :1]\n",
    "Ureduce"
   ]
  },
  {
   "cell_type": "code",
   "execution_count": null,
   "id": "bfafa3d4",
   "metadata": {
    "ExecuteTime": {
     "end_time": "2023-07-20T09:09:28.975233890Z",
     "start_time": "2023-07-20T09:09:28.771366645Z"
    }
   },
   "outputs": [],
   "source": [
    "z = Ureduce.T @ zero_mean_data\n",
    "print('z.shape:', z.shape, sep='\\n')\n",
    "\n",
    "plt.scatter(z[0], np.zeros(len(z[0])))\n",
    "plt.xlim(-4, 4)\n",
    "plt.ylim(-4, 4)"
   ]
  },
  {
   "cell_type": "code",
   "execution_count": null,
   "id": "98780079",
   "metadata": {
    "ExecuteTime": {
     "end_time": "2023-07-20T09:09:28.975506554Z",
     "start_time": "2023-07-20T09:09:28.964602997Z"
    }
   },
   "outputs": [],
   "source": []
  }
 ],
 "metadata": {
  "kernelspec": {
   "display_name": "Python 3 (ipykernel)",
   "language": "python",
   "name": "python3"
  },
  "language_info": {
   "codemirror_mode": {
    "name": "ipython",
    "version": 3
   },
   "file_extension": ".py",
   "mimetype": "text/x-python",
   "name": "python",
   "nbconvert_exporter": "python",
   "pygments_lexer": "ipython3",
   "version": "3.7.16"
  }
 },
 "nbformat": 4,
 "nbformat_minor": 5
}
